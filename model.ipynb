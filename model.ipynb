{
 "cells": [
  {
   "cell_type": "code",
   "execution_count": 1,
   "metadata": {},
   "outputs": [],
   "source": [
    "import pandas as pd\n",
    "import numpy as np\n",
    "train = pd.read_csv(\"C:\\\\Users\\\\karth\\\\Desktop\\\\project\\\\train.csv\")\n",
    "test = pd.read_csv(\"C:\\\\Users\\\\karth\\\\Desktop\\\\\\project\\\\test.csv\")"
   ]
  },
  {
   "cell_type": "code",
   "execution_count": 2,
   "metadata": {},
   "outputs": [
    {
     "name": "stdout",
     "output_type": "stream",
     "text": [
      "<class 'pandas.core.frame.DataFrame'>\n",
      "RangeIndex: 99198 entries, 0 to 99197\n",
      "Data columns (total 26 columns):\n",
      "SNo                   99198 non-null int64\n",
      "ID                    99198 non-null object\n",
      "ID_status             99198 non-null object\n",
      "active                99198 non-null bool\n",
      "count_reassign        99198 non-null int64\n",
      "count_opening         99198 non-null int64\n",
      "count_updated         99198 non-null int64\n",
      "ID_caller             99198 non-null object\n",
      "opened_by             99198 non-null object\n",
      "opened_time           99198 non-null object\n",
      "Created_by            99198 non-null object\n",
      "created_at            99198 non-null object\n",
      "updated_by            99198 non-null object\n",
      "updated_at            99198 non-null object\n",
      "type_contact          99198 non-null object\n",
      "location              99198 non-null object\n",
      "category_ID           99198 non-null object\n",
      "user_symptom          99198 non-null object\n",
      "Support_group         99198 non-null object\n",
      "support_incharge      99198 non-null object\n",
      "Doc_knowledge         99198 non-null bool\n",
      "confirmation_check    99198 non-null bool\n",
      "impact                99198 non-null object\n",
      "notify                99198 non-null object\n",
      "problem_ID            99198 non-null object\n",
      "change_request        99198 non-null object\n",
      "dtypes: bool(3), int64(4), object(19)\n",
      "memory usage: 17.7+ MB\n"
     ]
    }
   ],
   "source": [
    "train.info()\n"
   ]
  },
  {
   "cell_type": "code",
   "execution_count": 3,
   "metadata": {},
   "outputs": [
    {
     "data": {
      "text/plain": [
       "Index(['SNo', 'ID', 'ID_status', 'active', 'count_reassign', 'count_opening',\n",
       "       'count_updated', 'ID_caller', 'opened_by', 'opened_time', 'Created_by',\n",
       "       'created_at', 'updated_by', 'updated_at', 'type_contact', 'location',\n",
       "       'category_ID', 'user_symptom', 'Support_group', 'support_incharge',\n",
       "       'Doc_knowledge', 'confirmation_check', 'impact', 'notify', 'problem_ID',\n",
       "       'change_request'],\n",
       "      dtype='object')"
      ]
     },
     "execution_count": 3,
     "metadata": {},
     "output_type": "execute_result"
    }
   ],
   "source": [
    "train.columns"
   ]
  },
  {
   "cell_type": "code",
   "execution_count": 4,
   "metadata": {},
   "outputs": [
    {
     "name": "stdout",
     "output_type": "stream",
     "text": [
      "<class 'pandas.core.frame.DataFrame'>\n",
      "RangeIndex: 42514 entries, 0 to 42513\n",
      "Data columns (total 25 columns):\n",
      "SNo                   42514 non-null int64\n",
      "ID                    42514 non-null object\n",
      "ID_status             42514 non-null object\n",
      "active                42514 non-null bool\n",
      "count_reassign        42514 non-null int64\n",
      "count_opening         42514 non-null int64\n",
      "count_updated         42514 non-null int64\n",
      "ID_caller             42514 non-null object\n",
      "opened_by             42514 non-null object\n",
      "opened_time           42514 non-null object\n",
      "Created_by            42514 non-null object\n",
      "created_at            42514 non-null object\n",
      "updated_by            42514 non-null object\n",
      "updated_at            42514 non-null object\n",
      "type_contact          42514 non-null object\n",
      "location              42514 non-null object\n",
      "category_ID           42514 non-null object\n",
      "user_symptom          42514 non-null object\n",
      "Support_group         42514 non-null object\n",
      "support_incharge      42514 non-null object\n",
      "Doc_knowledge         42514 non-null bool\n",
      "confirmation_check    42514 non-null bool\n",
      "notify                42514 non-null object\n",
      "problem_ID            42514 non-null object\n",
      "change_request        42514 non-null object\n",
      "dtypes: bool(3), int64(4), object(18)\n",
      "memory usage: 7.3+ MB\n"
     ]
    }
   ],
   "source": [
    "test.info()"
   ]
  },
  {
   "cell_type": "code",
   "execution_count": 5,
   "metadata": {},
   "outputs": [
    {
     "data": {
      "text/plain": [
       "Index(['SNo', 'ID', 'ID_status', 'active', 'count_reassign', 'count_opening',\n",
       "       'count_updated', 'ID_caller', 'opened_by', 'opened_time', 'Created_by',\n",
       "       'created_at', 'updated_by', 'updated_at', 'type_contact', 'location',\n",
       "       'category_ID', 'user_symptom', 'Support_group', 'support_incharge',\n",
       "       'Doc_knowledge', 'confirmation_check', 'notify', 'problem_ID',\n",
       "       'change_request'],\n",
       "      dtype='object')"
      ]
     },
     "execution_count": 5,
     "metadata": {},
     "output_type": "execute_result"
    }
   ],
   "source": [
    "test.columns"
   ]
  },
  {
   "cell_type": "code",
   "execution_count": 6,
   "metadata": {},
   "outputs": [],
   "source": [
    "train = train.iloc[:,[1,2,3,4,5,6,7,8,14,15,16,17,18,19,20,21,22,23]]\n"
   ]
  },
  {
   "cell_type": "code",
   "execution_count": 7,
   "metadata": {},
   "outputs": [
    {
     "data": {
      "text/plain": [
       "Index(['ID', 'ID_status', 'active', 'count_reassign', 'count_opening',\n",
       "       'count_updated', 'ID_caller', 'opened_by', 'type_contact', 'location',\n",
       "       'category_ID', 'user_symptom', 'Support_group', 'support_incharge',\n",
       "       'Doc_knowledge', 'confirmation_check', 'impact', 'notify'],\n",
       "      dtype='object')"
      ]
     },
     "execution_count": 7,
     "metadata": {},
     "output_type": "execute_result"
    }
   ],
   "source": [
    "train.columns"
   ]
  },
  {
   "cell_type": "code",
   "execution_count": 8,
   "metadata": {},
   "outputs": [],
   "source": [
    "test = test.iloc[:,[1,2,3,4,5,6,7,8,14,15,16,17,18,19,20,21,22]]\n"
   ]
  },
  {
   "cell_type": "code",
   "execution_count": 9,
   "metadata": {},
   "outputs": [
    {
     "data": {
      "text/plain": [
       "Index(['ID', 'ID_status', 'active', 'count_reassign', 'count_opening',\n",
       "       'count_updated', 'ID_caller', 'opened_by', 'type_contact', 'location',\n",
       "       'category_ID', 'user_symptom', 'Support_group', 'support_incharge',\n",
       "       'Doc_knowledge', 'confirmation_check', 'notify'],\n",
       "      dtype='object')"
      ]
     },
     "execution_count": 9,
     "metadata": {},
     "output_type": "execute_result"
    }
   ],
   "source": [
    "test.columns"
   ]
  },
  {
   "cell_type": "code",
   "execution_count": 10,
   "metadata": {},
   "outputs": [],
   "source": [
    "from sklearn.impute import SimpleImputer\n"
   ]
  },
  {
   "cell_type": "code",
   "execution_count": 11,
   "metadata": {},
   "outputs": [],
   "source": [
    "imputer = SimpleImputer(missing_values=\"?\",strategy = \"most_frequent\",copy=False)\n",
    "imp = imputer.fit(train)\n",
    "train_imp = imp.fit_transform(train)\n",
    "train = pd.DataFrame(train_imp)"
   ]
  },
  {
   "cell_type": "code",
   "execution_count": 12,
   "metadata": {},
   "outputs": [
    {
     "data": {
      "text/html": [
       "<div>\n",
       "<style scoped>\n",
       "    .dataframe tbody tr th:only-of-type {\n",
       "        vertical-align: middle;\n",
       "    }\n",
       "\n",
       "    .dataframe tbody tr th {\n",
       "        vertical-align: top;\n",
       "    }\n",
       "\n",
       "    .dataframe thead th {\n",
       "        text-align: right;\n",
       "    }\n",
       "</style>\n",
       "<table border=\"1\" class=\"dataframe\">\n",
       "  <thead>\n",
       "    <tr style=\"text-align: right;\">\n",
       "      <th></th>\n",
       "      <th>0</th>\n",
       "      <th>1</th>\n",
       "      <th>2</th>\n",
       "      <th>3</th>\n",
       "      <th>4</th>\n",
       "      <th>5</th>\n",
       "      <th>6</th>\n",
       "      <th>7</th>\n",
       "      <th>8</th>\n",
       "      <th>9</th>\n",
       "      <th>10</th>\n",
       "      <th>11</th>\n",
       "      <th>12</th>\n",
       "      <th>13</th>\n",
       "      <th>14</th>\n",
       "      <th>15</th>\n",
       "      <th>16</th>\n",
       "      <th>17</th>\n",
       "    </tr>\n",
       "  </thead>\n",
       "  <tbody>\n",
       "    <tr>\n",
       "      <th>0</th>\n",
       "      <td>INC0000045</td>\n",
       "      <td>New</td>\n",
       "      <td>True</td>\n",
       "      <td>0</td>\n",
       "      <td>0</td>\n",
       "      <td>0</td>\n",
       "      <td>Caller 2403</td>\n",
       "      <td>Opened by  8</td>\n",
       "      <td>Phone</td>\n",
       "      <td>Location 143</td>\n",
       "      <td>Category 55</td>\n",
       "      <td>Symptom 72</td>\n",
       "      <td>Group 56</td>\n",
       "      <td>Resolver 17</td>\n",
       "      <td>True</td>\n",
       "      <td>False</td>\n",
       "      <td>2 - Medium</td>\n",
       "      <td>Do Not Notify</td>\n",
       "    </tr>\n",
       "    <tr>\n",
       "      <th>1</th>\n",
       "      <td>INC0000045</td>\n",
       "      <td>Resolved</td>\n",
       "      <td>True</td>\n",
       "      <td>0</td>\n",
       "      <td>0</td>\n",
       "      <td>3</td>\n",
       "      <td>Caller 2403</td>\n",
       "      <td>Opened by  8</td>\n",
       "      <td>Phone</td>\n",
       "      <td>Location 143</td>\n",
       "      <td>Category 55</td>\n",
       "      <td>Symptom 72</td>\n",
       "      <td>Group 56</td>\n",
       "      <td>Resolver 17</td>\n",
       "      <td>True</td>\n",
       "      <td>False</td>\n",
       "      <td>2 - Medium</td>\n",
       "      <td>Do Not Notify</td>\n",
       "    </tr>\n",
       "    <tr>\n",
       "      <th>2</th>\n",
       "      <td>INC0000045</td>\n",
       "      <td>Closed</td>\n",
       "      <td>False</td>\n",
       "      <td>0</td>\n",
       "      <td>0</td>\n",
       "      <td>4</td>\n",
       "      <td>Caller 2403</td>\n",
       "      <td>Opened by  8</td>\n",
       "      <td>Phone</td>\n",
       "      <td>Location 143</td>\n",
       "      <td>Category 55</td>\n",
       "      <td>Symptom 72</td>\n",
       "      <td>Group 56</td>\n",
       "      <td>Resolver 17</td>\n",
       "      <td>True</td>\n",
       "      <td>False</td>\n",
       "      <td>2 - Medium</td>\n",
       "      <td>Do Not Notify</td>\n",
       "    </tr>\n",
       "    <tr>\n",
       "      <th>3</th>\n",
       "      <td>INC0000047</td>\n",
       "      <td>Active</td>\n",
       "      <td>True</td>\n",
       "      <td>1</td>\n",
       "      <td>0</td>\n",
       "      <td>1</td>\n",
       "      <td>Caller 2403</td>\n",
       "      <td>Opened by  397</td>\n",
       "      <td>Phone</td>\n",
       "      <td>Location 165</td>\n",
       "      <td>Category 40</td>\n",
       "      <td>Symptom 471</td>\n",
       "      <td>Group 24</td>\n",
       "      <td>Resolver 31</td>\n",
       "      <td>True</td>\n",
       "      <td>False</td>\n",
       "      <td>2 - Medium</td>\n",
       "      <td>Do Not Notify</td>\n",
       "    </tr>\n",
       "    <tr>\n",
       "      <th>4</th>\n",
       "      <td>INC0000047</td>\n",
       "      <td>Active</td>\n",
       "      <td>True</td>\n",
       "      <td>1</td>\n",
       "      <td>0</td>\n",
       "      <td>2</td>\n",
       "      <td>Caller 2403</td>\n",
       "      <td>Opened by  397</td>\n",
       "      <td>Phone</td>\n",
       "      <td>Location 165</td>\n",
       "      <td>Category 40</td>\n",
       "      <td>Symptom 471</td>\n",
       "      <td>Group 24</td>\n",
       "      <td>Resolver 31</td>\n",
       "      <td>True</td>\n",
       "      <td>False</td>\n",
       "      <td>2 - Medium</td>\n",
       "      <td>Do Not Notify</td>\n",
       "    </tr>\n",
       "  </tbody>\n",
       "</table>\n",
       "</div>"
      ],
      "text/plain": [
       "           0         1      2  3  4  5            6               7      8   \\\n",
       "0  INC0000045       New   True  0  0  0  Caller 2403    Opened by  8  Phone   \n",
       "1  INC0000045  Resolved   True  0  0  3  Caller 2403    Opened by  8  Phone   \n",
       "2  INC0000045    Closed  False  0  0  4  Caller 2403    Opened by  8  Phone   \n",
       "3  INC0000047    Active   True  1  0  1  Caller 2403  Opened by  397  Phone   \n",
       "4  INC0000047    Active   True  1  0  2  Caller 2403  Opened by  397  Phone   \n",
       "\n",
       "             9            10           11        12           13    14     15  \\\n",
       "0  Location 143  Category 55   Symptom 72  Group 56  Resolver 17  True  False   \n",
       "1  Location 143  Category 55   Symptom 72  Group 56  Resolver 17  True  False   \n",
       "2  Location 143  Category 55   Symptom 72  Group 56  Resolver 17  True  False   \n",
       "3  Location 165  Category 40  Symptom 471  Group 24  Resolver 31  True  False   \n",
       "4  Location 165  Category 40  Symptom 471  Group 24  Resolver 31  True  False   \n",
       "\n",
       "           16             17  \n",
       "0  2 - Medium  Do Not Notify  \n",
       "1  2 - Medium  Do Not Notify  \n",
       "2  2 - Medium  Do Not Notify  \n",
       "3  2 - Medium  Do Not Notify  \n",
       "4  2 - Medium  Do Not Notify  "
      ]
     },
     "execution_count": 12,
     "metadata": {},
     "output_type": "execute_result"
    }
   ],
   "source": [
    "train.head(5)"
   ]
  },
  {
   "cell_type": "code",
   "execution_count": 13,
   "metadata": {},
   "outputs": [],
   "source": [
    "train.columns=[\"ID\",\"ID_status\",\"active\",\"count_reassign\",\"count_opening\",\"count_updated\",\"ID_caller\",\"opened_by\",\"type_contact\",\"location\",\"category_ID\",\"user_symptom\",\"Support_group\",\"support_incharge\",\"Doc_knowledge\",\"confirmation_check\",\"impact\",\"notify\"]\n"
   ]
  },
  {
   "cell_type": "code",
   "execution_count": 14,
   "metadata": {},
   "outputs": [
    {
     "data": {
      "text/html": [
       "<div>\n",
       "<style scoped>\n",
       "    .dataframe tbody tr th:only-of-type {\n",
       "        vertical-align: middle;\n",
       "    }\n",
       "\n",
       "    .dataframe tbody tr th {\n",
       "        vertical-align: top;\n",
       "    }\n",
       "\n",
       "    .dataframe thead th {\n",
       "        text-align: right;\n",
       "    }\n",
       "</style>\n",
       "<table border=\"1\" class=\"dataframe\">\n",
       "  <thead>\n",
       "    <tr style=\"text-align: right;\">\n",
       "      <th></th>\n",
       "      <th>ID</th>\n",
       "      <th>ID_status</th>\n",
       "      <th>active</th>\n",
       "      <th>count_reassign</th>\n",
       "      <th>count_opening</th>\n",
       "      <th>count_updated</th>\n",
       "      <th>ID_caller</th>\n",
       "      <th>opened_by</th>\n",
       "      <th>type_contact</th>\n",
       "      <th>location</th>\n",
       "      <th>category_ID</th>\n",
       "      <th>user_symptom</th>\n",
       "      <th>Support_group</th>\n",
       "      <th>support_incharge</th>\n",
       "      <th>Doc_knowledge</th>\n",
       "      <th>confirmation_check</th>\n",
       "      <th>impact</th>\n",
       "      <th>notify</th>\n",
       "    </tr>\n",
       "  </thead>\n",
       "  <tbody>\n",
       "    <tr>\n",
       "      <th>0</th>\n",
       "      <td>INC0000045</td>\n",
       "      <td>New</td>\n",
       "      <td>True</td>\n",
       "      <td>0</td>\n",
       "      <td>0</td>\n",
       "      <td>0</td>\n",
       "      <td>Caller 2403</td>\n",
       "      <td>Opened by  8</td>\n",
       "      <td>Phone</td>\n",
       "      <td>Location 143</td>\n",
       "      <td>Category 55</td>\n",
       "      <td>Symptom 72</td>\n",
       "      <td>Group 56</td>\n",
       "      <td>Resolver 17</td>\n",
       "      <td>True</td>\n",
       "      <td>False</td>\n",
       "      <td>2 - Medium</td>\n",
       "      <td>Do Not Notify</td>\n",
       "    </tr>\n",
       "    <tr>\n",
       "      <th>1</th>\n",
       "      <td>INC0000045</td>\n",
       "      <td>Resolved</td>\n",
       "      <td>True</td>\n",
       "      <td>0</td>\n",
       "      <td>0</td>\n",
       "      <td>3</td>\n",
       "      <td>Caller 2403</td>\n",
       "      <td>Opened by  8</td>\n",
       "      <td>Phone</td>\n",
       "      <td>Location 143</td>\n",
       "      <td>Category 55</td>\n",
       "      <td>Symptom 72</td>\n",
       "      <td>Group 56</td>\n",
       "      <td>Resolver 17</td>\n",
       "      <td>True</td>\n",
       "      <td>False</td>\n",
       "      <td>2 - Medium</td>\n",
       "      <td>Do Not Notify</td>\n",
       "    </tr>\n",
       "    <tr>\n",
       "      <th>2</th>\n",
       "      <td>INC0000045</td>\n",
       "      <td>Closed</td>\n",
       "      <td>False</td>\n",
       "      <td>0</td>\n",
       "      <td>0</td>\n",
       "      <td>4</td>\n",
       "      <td>Caller 2403</td>\n",
       "      <td>Opened by  8</td>\n",
       "      <td>Phone</td>\n",
       "      <td>Location 143</td>\n",
       "      <td>Category 55</td>\n",
       "      <td>Symptom 72</td>\n",
       "      <td>Group 56</td>\n",
       "      <td>Resolver 17</td>\n",
       "      <td>True</td>\n",
       "      <td>False</td>\n",
       "      <td>2 - Medium</td>\n",
       "      <td>Do Not Notify</td>\n",
       "    </tr>\n",
       "    <tr>\n",
       "      <th>3</th>\n",
       "      <td>INC0000047</td>\n",
       "      <td>Active</td>\n",
       "      <td>True</td>\n",
       "      <td>1</td>\n",
       "      <td>0</td>\n",
       "      <td>1</td>\n",
       "      <td>Caller 2403</td>\n",
       "      <td>Opened by  397</td>\n",
       "      <td>Phone</td>\n",
       "      <td>Location 165</td>\n",
       "      <td>Category 40</td>\n",
       "      <td>Symptom 471</td>\n",
       "      <td>Group 24</td>\n",
       "      <td>Resolver 31</td>\n",
       "      <td>True</td>\n",
       "      <td>False</td>\n",
       "      <td>2 - Medium</td>\n",
       "      <td>Do Not Notify</td>\n",
       "    </tr>\n",
       "    <tr>\n",
       "      <th>4</th>\n",
       "      <td>INC0000047</td>\n",
       "      <td>Active</td>\n",
       "      <td>True</td>\n",
       "      <td>1</td>\n",
       "      <td>0</td>\n",
       "      <td>2</td>\n",
       "      <td>Caller 2403</td>\n",
       "      <td>Opened by  397</td>\n",
       "      <td>Phone</td>\n",
       "      <td>Location 165</td>\n",
       "      <td>Category 40</td>\n",
       "      <td>Symptom 471</td>\n",
       "      <td>Group 24</td>\n",
       "      <td>Resolver 31</td>\n",
       "      <td>True</td>\n",
       "      <td>False</td>\n",
       "      <td>2 - Medium</td>\n",
       "      <td>Do Not Notify</td>\n",
       "    </tr>\n",
       "  </tbody>\n",
       "</table>\n",
       "</div>"
      ],
      "text/plain": [
       "           ID ID_status active count_reassign count_opening count_updated  \\\n",
       "0  INC0000045       New   True              0             0             0   \n",
       "1  INC0000045  Resolved   True              0             0             3   \n",
       "2  INC0000045    Closed  False              0             0             4   \n",
       "3  INC0000047    Active   True              1             0             1   \n",
       "4  INC0000047    Active   True              1             0             2   \n",
       "\n",
       "     ID_caller       opened_by type_contact      location  category_ID  \\\n",
       "0  Caller 2403    Opened by  8        Phone  Location 143  Category 55   \n",
       "1  Caller 2403    Opened by  8        Phone  Location 143  Category 55   \n",
       "2  Caller 2403    Opened by  8        Phone  Location 143  Category 55   \n",
       "3  Caller 2403  Opened by  397        Phone  Location 165  Category 40   \n",
       "4  Caller 2403  Opened by  397        Phone  Location 165  Category 40   \n",
       "\n",
       "  user_symptom Support_group support_incharge Doc_knowledge  \\\n",
       "0   Symptom 72      Group 56      Resolver 17          True   \n",
       "1   Symptom 72      Group 56      Resolver 17          True   \n",
       "2   Symptom 72      Group 56      Resolver 17          True   \n",
       "3  Symptom 471      Group 24      Resolver 31          True   \n",
       "4  Symptom 471      Group 24      Resolver 31          True   \n",
       "\n",
       "  confirmation_check      impact         notify  \n",
       "0              False  2 - Medium  Do Not Notify  \n",
       "1              False  2 - Medium  Do Not Notify  \n",
       "2              False  2 - Medium  Do Not Notify  \n",
       "3              False  2 - Medium  Do Not Notify  \n",
       "4              False  2 - Medium  Do Not Notify  "
      ]
     },
     "execution_count": 14,
     "metadata": {},
     "output_type": "execute_result"
    }
   ],
   "source": [
    "train.head(5)\n"
   ]
  },
  {
   "cell_type": "code",
   "execution_count": 15,
   "metadata": {},
   "outputs": [],
   "source": [
    "#Label Encoder\n",
    "\n",
    "from sklearn import preprocessing"
   ]
  },
  {
   "cell_type": "code",
   "execution_count": 16,
   "metadata": {},
   "outputs": [],
   "source": [
    "string_columns = [\"ID\",\"ID_status\",\"ID_caller\",\"opened_by\",\"type_contact\",\"location\",\"category_ID\",\"user_symptom\",\"Support_group\",\"support_incharge\",\"notify\"]\n",
    "\n",
    "\n",
    "for i in string_columns:\n",
    "    number = preprocessing.LabelEncoder()\n",
    "    train[i]=number.fit_transform(train[i])\n",
    "\n"
   ]
  },
  {
   "cell_type": "code",
   "execution_count": 17,
   "metadata": {},
   "outputs": [],
   "source": [
    "train.loc[train[\"active\"]==True,\"active\"]=1\n",
    "train.loc[train[\"active\"]==False,\"active\"]=0\n",
    "\n",
    "train.loc[train[\"confirmation_check\"]==True,\"confirmation_check\"]=1\n",
    "train.loc[train[\"confirmation_check\"]==False,\"confirmation_check\"]=0\n",
    "\n",
    "train.loc[train[\"Doc_knowledge\"]==True,\"Doc_knowledge\"]=1\n",
    "train.loc[train[\"Doc_knowledge\"]==False,\"Doc_knowledge\"]=0"
   ]
  },
  {
   "cell_type": "code",
   "execution_count": 18,
   "metadata": {},
   "outputs": [],
   "source": [
    "#test data\n",
    "\n",
    "imputer = SimpleImputer(missing_values=\"?\",strategy = \"most_frequent\",copy=False)\n",
    "\n",
    "imp_test = imputer.fit(test)\n",
    "test_imp = imp_test.fit_transform(test)\n",
    "test = pd.DataFrame(test_imp)"
   ]
  },
  {
   "cell_type": "code",
   "execution_count": 19,
   "metadata": {},
   "outputs": [],
   "source": [
    "test.columns=[\"ID\",\"ID_status\",\"active\",\"count_reassign\",\"count_opening\",\"count_updated\",\"ID_caller\",\"opened_by\",\"type_contact\",\"location\",\"category_ID\",\"user_symptom\",\"Support_group\",\"support_incharge\",\"Doc_knowledge\",\"confirmation_check\",\"notify\"]\n"
   ]
  },
  {
   "cell_type": "code",
   "execution_count": 20,
   "metadata": {},
   "outputs": [
    {
     "data": {
      "text/html": [
       "<div>\n",
       "<style scoped>\n",
       "    .dataframe tbody tr th:only-of-type {\n",
       "        vertical-align: middle;\n",
       "    }\n",
       "\n",
       "    .dataframe tbody tr th {\n",
       "        vertical-align: top;\n",
       "    }\n",
       "\n",
       "    .dataframe thead th {\n",
       "        text-align: right;\n",
       "    }\n",
       "</style>\n",
       "<table border=\"1\" class=\"dataframe\">\n",
       "  <thead>\n",
       "    <tr style=\"text-align: right;\">\n",
       "      <th></th>\n",
       "      <th>ID</th>\n",
       "      <th>ID_status</th>\n",
       "      <th>active</th>\n",
       "      <th>count_reassign</th>\n",
       "      <th>count_opening</th>\n",
       "      <th>count_updated</th>\n",
       "      <th>ID_caller</th>\n",
       "      <th>opened_by</th>\n",
       "      <th>type_contact</th>\n",
       "      <th>location</th>\n",
       "      <th>category_ID</th>\n",
       "      <th>user_symptom</th>\n",
       "      <th>Support_group</th>\n",
       "      <th>support_incharge</th>\n",
       "      <th>Doc_knowledge</th>\n",
       "      <th>confirmation_check</th>\n",
       "      <th>notify</th>\n",
       "    </tr>\n",
       "  </thead>\n",
       "  <tbody>\n",
       "    <tr>\n",
       "      <th>0</th>\n",
       "      <td>INC0000045</td>\n",
       "      <td>Resolved</td>\n",
       "      <td>True</td>\n",
       "      <td>0</td>\n",
       "      <td>0</td>\n",
       "      <td>2</td>\n",
       "      <td>Caller 2403</td>\n",
       "      <td>Opened by  8</td>\n",
       "      <td>Phone</td>\n",
       "      <td>Location 143</td>\n",
       "      <td>Category 55</td>\n",
       "      <td>Symptom 72</td>\n",
       "      <td>Group 56</td>\n",
       "      <td>Resolver 17</td>\n",
       "      <td>True</td>\n",
       "      <td>False</td>\n",
       "      <td>Do Not Notify</td>\n",
       "    </tr>\n",
       "    <tr>\n",
       "      <th>1</th>\n",
       "      <td>INC0000047</td>\n",
       "      <td>New</td>\n",
       "      <td>True</td>\n",
       "      <td>0</td>\n",
       "      <td>0</td>\n",
       "      <td>0</td>\n",
       "      <td>Caller 2403</td>\n",
       "      <td>Opened by  397</td>\n",
       "      <td>Phone</td>\n",
       "      <td>Location 165</td>\n",
       "      <td>Category 40</td>\n",
       "      <td>Symptom 471</td>\n",
       "      <td>Group 70</td>\n",
       "      <td>Resolver 89</td>\n",
       "      <td>True</td>\n",
       "      <td>False</td>\n",
       "      <td>Do Not Notify</td>\n",
       "    </tr>\n",
       "    <tr>\n",
       "      <th>2</th>\n",
       "      <td>INC0000047</td>\n",
       "      <td>Active</td>\n",
       "      <td>True</td>\n",
       "      <td>1</td>\n",
       "      <td>0</td>\n",
       "      <td>3</td>\n",
       "      <td>Caller 2403</td>\n",
       "      <td>Opened by  397</td>\n",
       "      <td>Phone</td>\n",
       "      <td>Location 165</td>\n",
       "      <td>Category 40</td>\n",
       "      <td>Symptom 471</td>\n",
       "      <td>Group 24</td>\n",
       "      <td>Resolver 31</td>\n",
       "      <td>True</td>\n",
       "      <td>False</td>\n",
       "      <td>Do Not Notify</td>\n",
       "    </tr>\n",
       "    <tr>\n",
       "      <th>3</th>\n",
       "      <td>INC0000047</td>\n",
       "      <td>Resolved</td>\n",
       "      <td>True</td>\n",
       "      <td>1</td>\n",
       "      <td>0</td>\n",
       "      <td>7</td>\n",
       "      <td>Caller 2403</td>\n",
       "      <td>Opened by  397</td>\n",
       "      <td>Phone</td>\n",
       "      <td>Location 165</td>\n",
       "      <td>Category 40</td>\n",
       "      <td>Symptom 471</td>\n",
       "      <td>Group 24</td>\n",
       "      <td>Resolver 89</td>\n",
       "      <td>True</td>\n",
       "      <td>False</td>\n",
       "      <td>Do Not Notify</td>\n",
       "    </tr>\n",
       "    <tr>\n",
       "      <th>4</th>\n",
       "      <td>INC0000057</td>\n",
       "      <td>New</td>\n",
       "      <td>True</td>\n",
       "      <td>0</td>\n",
       "      <td>0</td>\n",
       "      <td>4</td>\n",
       "      <td>Caller 4416</td>\n",
       "      <td>Opened by  8</td>\n",
       "      <td>Phone</td>\n",
       "      <td>Location 204</td>\n",
       "      <td>Category 20</td>\n",
       "      <td>Symptom 471</td>\n",
       "      <td>Group 70</td>\n",
       "      <td>Resolver 17</td>\n",
       "      <td>True</td>\n",
       "      <td>False</td>\n",
       "      <td>Do Not Notify</td>\n",
       "    </tr>\n",
       "  </tbody>\n",
       "</table>\n",
       "</div>"
      ],
      "text/plain": [
       "           ID ID_status active count_reassign count_opening count_updated  \\\n",
       "0  INC0000045  Resolved   True              0             0             2   \n",
       "1  INC0000047       New   True              0             0             0   \n",
       "2  INC0000047    Active   True              1             0             3   \n",
       "3  INC0000047  Resolved   True              1             0             7   \n",
       "4  INC0000057       New   True              0             0             4   \n",
       "\n",
       "     ID_caller       opened_by type_contact      location  category_ID  \\\n",
       "0  Caller 2403    Opened by  8        Phone  Location 143  Category 55   \n",
       "1  Caller 2403  Opened by  397        Phone  Location 165  Category 40   \n",
       "2  Caller 2403  Opened by  397        Phone  Location 165  Category 40   \n",
       "3  Caller 2403  Opened by  397        Phone  Location 165  Category 40   \n",
       "4  Caller 4416    Opened by  8        Phone  Location 204  Category 20   \n",
       "\n",
       "  user_symptom Support_group support_incharge Doc_knowledge  \\\n",
       "0   Symptom 72      Group 56      Resolver 17          True   \n",
       "1  Symptom 471      Group 70      Resolver 89          True   \n",
       "2  Symptom 471      Group 24      Resolver 31          True   \n",
       "3  Symptom 471      Group 24      Resolver 89          True   \n",
       "4  Symptom 471      Group 70      Resolver 17          True   \n",
       "\n",
       "  confirmation_check         notify  \n",
       "0              False  Do Not Notify  \n",
       "1              False  Do Not Notify  \n",
       "2              False  Do Not Notify  \n",
       "3              False  Do Not Notify  \n",
       "4              False  Do Not Notify  "
      ]
     },
     "execution_count": 20,
     "metadata": {},
     "output_type": "execute_result"
    }
   ],
   "source": [
    "test.head(5)"
   ]
  },
  {
   "cell_type": "code",
   "execution_count": 21,
   "metadata": {},
   "outputs": [],
   "source": [
    "test_string_columns = [\"ID\",\"ID_status\",\"ID_caller\",\"opened_by\",\"type_contact\",\"location\",\"category_ID\",\"user_symptom\",\"Support_group\",\"support_incharge\",\"notify\"]\n"
   ]
  },
  {
   "cell_type": "code",
   "execution_count": 22,
   "metadata": {},
   "outputs": [],
   "source": [
    "for k in test_string_columns:\n",
    "    number = preprocessing.LabelEncoder()\n",
    "    test[k]=number.fit_transform(test[k])"
   ]
  },
  {
   "cell_type": "code",
   "execution_count": 23,
   "metadata": {},
   "outputs": [],
   "source": [
    "test.loc[test[\"active\"]==True,\"active\"]=1\n",
    "test.loc[test[\"active\"]==False,\"active\"]=0\n",
    "\n",
    "test.loc[test[\"confirmation_check\"]==True,\"confirmation_check\"]=1\n",
    "test.loc[test[\"confirmation_check\"]==False,\"confirmation_check\"]=0\n",
    "\n",
    "test.loc[test[\"Doc_knowledge\"]==True,\"Doc_knowledge\"]=1\n",
    "test.loc[test[\"Doc_knowledge\"]==False,\"Doc_knowledge\"]=0"
   ]
  },
  {
   "cell_type": "code",
   "execution_count": 24,
   "metadata": {},
   "outputs": [
    {
     "data": {
      "text/plain": [
       "RandomForestClassifier(bootstrap=True, class_weight=None, criterion='entropy',\n",
       "            max_depth=None, max_features='auto', max_leaf_nodes=None,\n",
       "            min_impurity_decrease=0.0, min_impurity_split=None,\n",
       "            min_samples_leaf=1, min_samples_split=2,\n",
       "            min_weight_fraction_leaf=0.0, n_estimators=30, n_jobs=None,\n",
       "            oob_score=False, random_state=None, verbose=0,\n",
       "            warm_start=False)"
      ]
     },
     "execution_count": 24,
     "metadata": {},
     "output_type": "execute_result"
    }
   ],
   "source": [
    "#model building\n",
    "\n",
    "from sklearn.ensemble import RandomForestClassifier\n",
    "\n",
    "model = RandomForestClassifier(n_estimators = 30,criterion = 'entropy')\n",
    "\n",
    "model.fit(train.iloc[:,[0,1,2,3,4,5,6,7,8,9,10,11,12,13,14,15,17]],train.iloc[:,16])\n",
    "\n"
   ]
  },
  {
   "cell_type": "code",
   "execution_count": 25,
   "metadata": {},
   "outputs": [
    {
     "data": {
      "text/plain": [
       "0.9998286255771286"
      ]
     },
     "execution_count": 25,
     "metadata": {},
     "output_type": "execute_result"
    }
   ],
   "source": [
    "#Training accuracy\n",
    "\n",
    "pd.crosstab(train.iloc[:,16],model.predict(train.iloc[:,[0,1,2,3,4,5,6,7,8,9,10,11,12,13,14,15,17]]))\n",
    "\n",
    "np.mean(train.iloc[:,16]==model.predict(train.iloc[:,[0,1,2,3,4,5,6,7,8,9,10,11,12,13,14,15,17]]))\n"
   ]
  },
  {
   "cell_type": "code",
   "execution_count": 26,
   "metadata": {},
   "outputs": [],
   "source": [
    "#Testing data\n",
    "\n",
    "predicted = model.predict(test.iloc[:,:])\n",
    "\n",
    "\n",
    "\n"
   ]
  },
  {
   "cell_type": "code",
   "execution_count": 27,
   "metadata": {},
   "outputs": [],
   "source": [
    "pp = pd.DataFrame(predicted)\n"
   ]
  },
  {
   "cell_type": "code",
   "execution_count": 28,
   "metadata": {},
   "outputs": [
    {
     "data": {
      "text/html": [
       "<div>\n",
       "<style scoped>\n",
       "    .dataframe tbody tr th:only-of-type {\n",
       "        vertical-align: middle;\n",
       "    }\n",
       "\n",
       "    .dataframe tbody tr th {\n",
       "        vertical-align: top;\n",
       "    }\n",
       "\n",
       "    .dataframe thead th {\n",
       "        text-align: right;\n",
       "    }\n",
       "</style>\n",
       "<table border=\"1\" class=\"dataframe\">\n",
       "  <thead>\n",
       "    <tr style=\"text-align: right;\">\n",
       "      <th></th>\n",
       "      <th>0</th>\n",
       "    </tr>\n",
       "  </thead>\n",
       "  <tbody>\n",
       "    <tr>\n",
       "      <th>0</th>\n",
       "      <td>2 - Medium</td>\n",
       "    </tr>\n",
       "    <tr>\n",
       "      <th>1</th>\n",
       "      <td>2 - Medium</td>\n",
       "    </tr>\n",
       "    <tr>\n",
       "      <th>2</th>\n",
       "      <td>2 - Medium</td>\n",
       "    </tr>\n",
       "    <tr>\n",
       "      <th>3</th>\n",
       "      <td>2 - Medium</td>\n",
       "    </tr>\n",
       "    <tr>\n",
       "      <th>4</th>\n",
       "      <td>2 - Medium</td>\n",
       "    </tr>\n",
       "  </tbody>\n",
       "</table>\n",
       "</div>"
      ],
      "text/plain": [
       "            0\n",
       "0  2 - Medium\n",
       "1  2 - Medium\n",
       "2  2 - Medium\n",
       "3  2 - Medium\n",
       "4  2 - Medium"
      ]
     },
     "execution_count": 28,
     "metadata": {},
     "output_type": "execute_result"
    }
   ],
   "source": [
    "pp.head(5)"
   ]
  },
  {
   "cell_type": "code",
   "execution_count": 29,
   "metadata": {},
   "outputs": [],
   "source": [
    "pp.columns = [\"prediction1\"]\n",
    "pp.insert(0,\"ID\",0)\n",
    "\n",
    "kk=list(range(1,((len(pp[\"prediction1\"])+1))))\n",
    "\n",
    "\n",
    "kk=pd.DataFrame(kk)\n",
    "\n",
    "kk.columns=[\"ID\"]\n",
    "\n",
    "pp[\"ID\"]=kk[\"ID\"]\n"
   ]
  },
  {
   "cell_type": "code",
   "execution_count": 30,
   "metadata": {},
   "outputs": [
    {
     "data": {
      "text/html": [
       "<div>\n",
       "<style scoped>\n",
       "    .dataframe tbody tr th:only-of-type {\n",
       "        vertical-align: middle;\n",
       "    }\n",
       "\n",
       "    .dataframe tbody tr th {\n",
       "        vertical-align: top;\n",
       "    }\n",
       "\n",
       "    .dataframe thead th {\n",
       "        text-align: right;\n",
       "    }\n",
       "</style>\n",
       "<table border=\"1\" class=\"dataframe\">\n",
       "  <thead>\n",
       "    <tr style=\"text-align: right;\">\n",
       "      <th></th>\n",
       "      <th>ID</th>\n",
       "      <th>prediction1</th>\n",
       "    </tr>\n",
       "  </thead>\n",
       "  <tbody>\n",
       "    <tr>\n",
       "      <th>0</th>\n",
       "      <td>1</td>\n",
       "      <td>2 - Medium</td>\n",
       "    </tr>\n",
       "    <tr>\n",
       "      <th>1</th>\n",
       "      <td>2</td>\n",
       "      <td>2 - Medium</td>\n",
       "    </tr>\n",
       "    <tr>\n",
       "      <th>2</th>\n",
       "      <td>3</td>\n",
       "      <td>2 - Medium</td>\n",
       "    </tr>\n",
       "    <tr>\n",
       "      <th>3</th>\n",
       "      <td>4</td>\n",
       "      <td>2 - Medium</td>\n",
       "    </tr>\n",
       "    <tr>\n",
       "      <th>4</th>\n",
       "      <td>5</td>\n",
       "      <td>2 - Medium</td>\n",
       "    </tr>\n",
       "  </tbody>\n",
       "</table>\n",
       "</div>"
      ],
      "text/plain": [
       "   ID prediction1\n",
       "0   1  2 - Medium\n",
       "1   2  2 - Medium\n",
       "2   3  2 - Medium\n",
       "3   4  2 - Medium\n",
       "4   5  2 - Medium"
      ]
     },
     "execution_count": 30,
     "metadata": {},
     "output_type": "execute_result"
    }
   ],
   "source": [
    "pp.head(5)"
   ]
  },
  {
   "cell_type": "code",
   "execution_count": 31,
   "metadata": {},
   "outputs": [
    {
     "ename": "NameError",
     "evalue": "name 'getwd' is not defined",
     "output_type": "error",
     "traceback": [
      "\u001b[1;31m---------------------------------------------------------------------------\u001b[0m",
      "\u001b[1;31mNameError\u001b[0m                                 Traceback (most recent call last)",
      "\u001b[1;32m<ipython-input-31-14c78a673413>\u001b[0m in \u001b[0;36m<module>\u001b[1;34m\u001b[0m\n\u001b[1;32m----> 1\u001b[1;33m \u001b[0mgetwd\u001b[0m\u001b[1;33m(\u001b[0m\u001b[1;33m)\u001b[0m\u001b[1;33m\u001b[0m\u001b[1;33m\u001b[0m\u001b[0m\n\u001b[0m",
      "\u001b[1;31mNameError\u001b[0m: name 'getwd' is not defined"
     ]
    }
   ],
   "source": [
    "getwd()"
   ]
  },
  {
   "cell_type": "code",
   "execution_count": null,
   "metadata": {},
   "outputs": [],
   "source": []
  }
 ],
 "metadata": {
  "kernelspec": {
   "display_name": "Python 3",
   "language": "python",
   "name": "python3"
  },
  "language_info": {
   "codemirror_mode": {
    "name": "ipython",
    "version": 3
   },
   "file_extension": ".py",
   "mimetype": "text/x-python",
   "name": "python",
   "nbconvert_exporter": "python",
   "pygments_lexer": "ipython3",
   "version": "3.7.3"
  }
 },
 "nbformat": 4,
 "nbformat_minor": 2
}
